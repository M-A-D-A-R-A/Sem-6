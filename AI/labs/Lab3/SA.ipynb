{
 "cells": [
  {
   "cell_type": "code",
   "execution_count": 25,
   "metadata": {},
   "outputs": [],
   "source": [
    "import string, math\n",
    "def distancesFromCoords(file):\n",
    "    f = open(file)\n",
    "    data = [line.replace(\"\\n\",\"\").split(\" \")[1:] for line in f.readlines()[6:106]]\n",
    "    # print(data)\n",
    "    coords =  list(map(lambda x: [float(x[0]),float(x[1])], data))\n",
    "    # print(coords)\n",
    "    distances = []\n",
    "    for i in range(len(coords)):\n",
    "        row = []\n",
    "        for j in range(len(coords)):\n",
    "            row.append(math.sqrt((coords[i][0]-coords[j][0])**2 + (coords[i][1]-coords[j][1])**2))\n",
    "            # print(row)\n",
    "        distances.append(row)\n",
    "    return distances"
   ]
  },
  {
   "cell_type": "code",
   "execution_count": null,
   "metadata": {},
   "outputs": [],
   "source": []
  },
  {
   "cell_type": "code",
   "execution_count": 28,
   "metadata": {},
   "outputs": [
    {
     "name": "stdout",
     "output_type": "stream",
     "text": [
      "inputs/xqf131.tsp\n",
      "Routes:-\n",
      "71 ->75 ->80 ->87 ->92 ->99 ->95 ->94 ->98 ->93 ->91 ->32 ->33 ->17 ->16 ->31 ->30 ->28 ->44 ->49 ->50 ->64 ->69 ->59 ->56 ->60 ->63 ->55 ->58 ->62 ->68 ->61 ->48 ->42 ->43 ->27 ->14 ->26 ->25 ->13 ->8 ->7 ->5 ->6 ->11 ->9 ->10 ->12 ->45 ->51 ->79 ->83 ->84 ->88 ->90 ->89 ->97 ->96 ->85 ->81 ->52 ->53 ->34 ->35 ->36 ->37 ->54 ->66 ->65 ->73 ->72 ->41 ->40 ->19 ->20 ->21 ->22 ->23 ->24 ->39 ->38 ->46 ->47 ->57 ->74 ->76 ->77 ->78 ->29 ->15 ->4 ->3 ->2 ->1 ->0 ->18 ->67 ->82 ->86 ->70 ->71 ->\n",
      " Final distance: 682.8542379833676\n",
      "inputs/bcl380.tsp\n",
      "Routes:-\n",
      "85 ->89 ->91 ->78 ->54 ->62 ->59 ->76 ->87 ->82 ->86 ->99 ->98 ->97 ->94 ->63 ->47 ->44 ->8 ->9 ->13 ->29 ->14 ->15 ->0 ->16 ->96 ->57 ->73 ->79 ->72 ->71 ->70 ->52 ->67 ->68 ->69 ->49 ->51 ->48 ->33 ->45 ->21 ->20 ->31 ->2 ->3 ->22 ->23 ->4 ->42 ->60 ->75 ->81 ->80 ->65 ->77 ->74 ->88 ->46 ->36 ->50 ->10 ->38 ->37 ->5 ->19 ->1 ->30 ->17 ->18 ->32 ->43 ->66 ->55 ->56 ->39 ->40 ->41 ->58 ->64 ->12 ->11 ->35 ->34 ->7 ->6 ->28 ->27 ->26 ->25 ->24 ->84 ->83 ->53 ->61 ->95 ->93 ->92 ->90 ->85 ->\n",
      " Final distance: 1111.222344805799\n"
     ]
    }
   ],
   "source": [
    "import numpy as np\n",
    "from math import exp\n",
    "import random as r\n",
    "\n",
    "def ObjetiveFunction(pos,matriz):\n",
    "    z = 0\n",
    "    for i in range(len(pos)-1):\n",
    "        z += matriz[pos[i]][pos[i+1]]\n",
    "    return z\n",
    "\n",
    "def DisruptMatrix(x):\n",
    "    x1 = r.randint(1,len(x)-2)\n",
    "    x2 = r.randint(1,len(x)-2)\n",
    "    while(x2==x1):\n",
    "        x2 = r.randint(1,len(x)-2)\n",
    "    aux = x[x1]\n",
    "    x[x1] = x[x2]\n",
    "    x[x2] = aux\n",
    "    return x\n",
    "\n",
    "if __name__ == \"__main__\":\n",
    "    filelist =['inputs/xqf131.tsp','inputs/bcl380.tsp']\n",
    "    # Open input file\n",
    "    for files in filelist:\n",
    "        print(files)\n",
    "        coor = distancesFromCoords(files)\n",
    "        # print(coor)\n",
    "        x = []\n",
    "        pos = r.randint(0,len(coor)-1)\n",
    "        x.append(pos)\n",
    "        for i in range(len(coor)):\n",
    "            if(i!=pos):\n",
    "                x.append(i)\n",
    "        x.append(pos)\n",
    "        \n",
    "        T = 1000\n",
    "        alpha = 0.99\n",
    "        while(T>0.1):\n",
    "            z = ObjetiveFunction(x,coor)\n",
    "            new_x = DisruptMatrix(x[:])\n",
    "            new_z = ObjetiveFunction(new_x,coor)\n",
    "            # print(new_x)\n",
    "            if(new_z<z):\n",
    "                x = new_x\n",
    "                T *= alpha\n",
    "\n",
    "            else:\n",
    "                n = r.random()\n",
    "                p = exp((-(new_z - z)/T))\n",
    "                if(n < p):\n",
    "                    x = new_x\n",
    "                    T *= alpha\n",
    "        # print(new_x,\"ihfoaihfoiaf\")\n",
    "            # print(\"\\n\")\n",
    "\n",
    "        print(\"Routes:-\")\n",
    "        for c in x:\n",
    "            print(c,'->',end= '')\n",
    "\n",
    "        # print(\"Route:\",x\"->\")\n",
    "        print(\"\\n Final distance:\",new_z)"
   ]
  }
 ],
 "metadata": {
  "interpreter": {
   "hash": "17e4362123664f0dcc33d7d2fb68d2846e8c274c1dad485c2b528bbc5bde5de1"
  },
  "kernelspec": {
   "display_name": "Python 3.9.6 ('sem6': venv)",
   "language": "python",
   "name": "python3"
  },
  "language_info": {
   "codemirror_mode": {
    "name": "ipython",
    "version": 3
   },
   "file_extension": ".py",
   "mimetype": "text/x-python",
   "name": "python",
   "nbconvert_exporter": "python",
   "pygments_lexer": "ipython3",
   "version": "3.9.6"
  },
  "orig_nbformat": 4
 },
 "nbformat": 4,
 "nbformat_minor": 2
}
