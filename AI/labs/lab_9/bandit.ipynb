{
 "cells": [
  {
   "cell_type": "code",
   "execution_count": 1,
   "metadata": {},
   "outputs": [],
   "source": [
    "import numpy as np\n",
    "import matplotlib.pyplot as plt\n",
    "import random\n"
   ]
  },
  {
   "cell_type": "code",
   "execution_count": 2,
   "metadata": {},
   "outputs": [],
   "source": [
    "class Bandit():\n",
    "\n",
    "    def __init__(self,win_rate,num):\n",
    "        self.win_rate = win_rate\n",
    "        self.num = num\n",
    "        self.sample_mean = 0\n",
    "        self.n_j = 0\n",
    "    def pull(self):\n",
    "        self.n_j +=1\n",
    "        p = np.random.random()\n",
    "        if p<self.win_rate:\n",
    "            return 1\n",
    "        return 0"
   ]
  },
  {
   "cell_type": "code",
   "execution_count": 3,
   "metadata": {},
   "outputs": [],
   "source": [
    "def get_state(bandits_lineup): # hash the tuple \n",
    "    total = 0\n",
    "    for i in range(len(bandits_lineup)):\n",
    "        total += bandits_lineup[i].num * (10**i)\n",
    "    return total"
   ]
  },
  {
   "cell_type": "code",
   "execution_count": 4,
   "metadata": {},
   "outputs": [],
   "source": [
    "def epsilon_greedy(epsilon,bandits,s):\n",
    "    p  = np.random.random()\n",
    "    if p<epsilon:\n",
    "        a = random.randint(0,len(bandits)-1)\n",
    "    else:\n",
    "        \n",
    "        possible_actions = list(Q[s].keys())\n",
    "        a_star = possible_actions[0]\n",
    "        max_val = Q[s][a_star]\n",
    "        for a in possible_actions:\n",
    "            if Q[s][a]>max_val:\n",
    "                max_val = Q[s][a]\n",
    "                a_star = a\n",
    "        \n",
    "        return a_star\n",
    "    return a"
   ]
  },
  {
   "cell_type": "code",
   "execution_count": 20,
   "metadata": {},
   "outputs": [
    {
     "name": "stdout",
     "output_type": "stream",
     "text": [
      "BEFORE WINRATE FLIPPED\n",
      "2 120\n",
      "1 30\n",
      "------------\n"
     ]
    },
    {
     "data": {
      "text/plain": [
       "{21: {0: 0.06695940558508387, 1: 0.3049224261958051, 2: 0},\n",
       " 12: {0: 0.23832898179621057, 1: 0.0, 2: 0}}"
      ]
     },
     "execution_count": 20,
     "metadata": {},
     "output_type": "execute_result"
    }
   ],
   "source": [
    "B1 = Bandit(0.1,num=1)\n",
    "B2 = Bandit(0.2,num=2)\n",
    "# B3 = Bandit(0.2,num=3)\n",
    "\n",
    "Q = {}\n",
    "bandits = [B1,B2]\n",
    "\n",
    "alpha = random.random()\n",
    "def train(steps,epsilon=0.1):\n",
    "   \n",
    "    N = []\n",
    "    rewards = []\n",
    "    total = 0\n",
    "    for _ in range(steps):\n",
    "        # add none stationary element by changing the winrate of B1 from 70% to 10%. and see if epsilon greedy recovers\n",
    "        if _ == 150:\n",
    "            print(\"BEFORE WINRATE FLIPPED\")\n",
    "            for b in bandits:\n",
    "                print(b.num,b.n_j)\n",
    "            print(\"------------\")\n",
    "            B1.win_rate = 0.1\n",
    "        N.append(_)\n",
    "        random.shuffle(bandits)\n",
    "        if get_state(bandits) not in Q:\n",
    "            Q[get_state(bandits)] = {0:0,1:0,2:0}\n",
    "        s = get_state(bandits)\n",
    "        a = epsilon_greedy(epsilon,bandits,s)\n",
    "        \n",
    "        bandit = bandits[a]\n",
    "        reward = bandit.pull()\n",
    "        total += reward\n",
    "        rewards.append(total/(_+1))\n",
    "        Q[s][a]= Q[s][a] + alpha*(reward -Q[s][a])\n",
    "        # bandit.update(reward)\n",
    "    return N,rewards\n",
    "N,rewards = train(1000,0.1)\n",
    "\n",
    "Q"
   ]
  },
  {
   "cell_type": "code",
   "execution_count": 19,
   "metadata": {},
   "outputs": [
    {
     "name": "stdout",
     "output_type": "stream",
     "text": [
      "FINAL NUM TIMES PULLED BANDIT X\n",
      "2 585\n",
      "1 415\n"
     ]
    },
    {
     "data": {
      "image/png": "[encoded data removed]",
      "text/plain": [
       "<Figure size 432x288 with 2 Axes>"
      ]
     },
     "metadata": {
      "needs_background": "light"
     },
     "output_type": "display_data"
    }
   ],
   "source": [
    "objects  = (bandits[0].num,bandits[1].num)\n",
    "y_pos = np.arange(len(objects))\n",
    "num_times_pulled = [x.n_j for x in bandits]\n",
    "plt.figure(1)\n",
    "plt.subplot(211)\n",
    "plt.bar(y_pos, num_times_pulled)\n",
    "plt.xticks(y_pos,objects)\n",
    "plt.ylabel(\"NUM TIMES PULLED\")\n",
    "plt.title(\"NUM TIMES EACH SLOT MACHINE WAS PULLED\")\n",
    "\n",
    "print(\"FINAL NUM TIMES PULLED BANDIT X\")\n",
    "for b in bandits:\n",
    "    print(b.num,b.n_j)\n",
    "plt.subplot(212)\n",
    "plt.title(\"EPISODE VS WIN RATE\")\n",
    "plt.xlabel(\"EPISODE\")\n",
    "plt.ylabel(\"WIN RATE OF ALGORITHM\")\n",
    "plt.plot(N,rewards)\n",
    "\n",
    "plt.show()"
   ]
  }
 ],
 "metadata": {
  "interpreter": {
   "hash": "17e4362123664f0dcc33d7d2fb68d2846e8c274c1dad485c2b528bbc5bde5de1"
  },
  "kernelspec": {
   "display_name": "Python 3.9.6 ('sem6': venv)",
   "language": "python",
   "name": "python3"
  },
  "language_info": {
   "codemirror_mode": {
    "name": "ipython",
    "version": 3
   },
   "file_extension": ".py",
   "mimetype": "text/x-python",
   "name": "python",
   "nbconvert_exporter": "python",
   "pygments_lexer": "ipython3",
   "version": "3.9.6"
  },
  "orig_nbformat": 4
 },
 "nbformat": 4,
 "nbformat_minor": 2
}
