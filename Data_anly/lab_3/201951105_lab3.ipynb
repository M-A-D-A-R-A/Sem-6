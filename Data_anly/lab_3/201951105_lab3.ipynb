{
 "cells": [
  {
   "cell_type": "markdown",
   "metadata": {},
   "source": [
    "## Lab 3\n",
    "\n",
    "201951105 \n",
    "\n",
    "Nishant Andoriya"
   ]
  },
  {
   "cell_type": "code",
   "execution_count": 1,
   "metadata": {},
   "outputs": [],
   "source": [
    "# importing library\n",
    "\n",
    "import sys\n",
    "import pandas as p\n",
    "import seaborn as sns\n",
    "import numpy as np\n",
    "import matplotlib.pyplot as plt\n",
    "from statsmodels.graphics.gofplots import qqplot"
   ]
  },
  {
   "cell_type": "code",
   "execution_count": 4,
   "metadata": {},
   "outputs": [
    {
     "data": {
      "text/html": [
       "<div>\n",
       "<style scoped>\n",
       "    .dataframe tbody tr th:only-of-type {\n",
       "        vertical-align: middle;\n",
       "    }\n",
       "\n",
       "    .dataframe tbody tr th {\n",
       "        vertical-align: top;\n",
       "    }\n",
       "\n",
       "    .dataframe thead th {\n",
       "        text-align: right;\n",
       "    }\n",
       "</style>\n",
       "<table border=\"1\" class=\"dataframe\">\n",
       "  <thead>\n",
       "    <tr style=\"text-align: right;\">\n",
       "      <th></th>\n",
       "      <th>Year</th>\n",
       "      <th>Food Grains (Cereals) - Rice (000 tonnes)</th>\n",
       "      <th>Food Grains (Cereals) - Jowar (000 tonnes)</th>\n",
       "      <th>Food Grains (Cereals) - Bajra (000 tonnes)</th>\n",
       "      <th>Food Grains (Cereals) - Maize (000 tonnes)</th>\n",
       "      <th>Food Grains (Cereals) - Ragi (000 tonnes)</th>\n",
       "      <th>Food Grains (Cereals) - Small Millets (000 tonnes)</th>\n",
       "      <th>Food Grains (Cereals) - Wheat (000 tonnes)</th>\n",
       "      <th>Food Grains (Cereals) - Barley (000 tonnes)</th>\n",
       "      <th>Food Grains (Cereals) - Total (000 tonnes)</th>\n",
       "      <th>...</th>\n",
       "      <th>Natural Rubber (000 MT)</th>\n",
       "      <th>Banana (000 tonnes)</th>\n",
       "      <th>Sugarcane (000 tonnes)</th>\n",
       "      <th>Tobacco (000 tonnes)</th>\n",
       "      <th>Potatoes (000 tonnes)</th>\n",
       "      <th>Black Pepper (000 tonnes)</th>\n",
       "      <th>Chillies (000 tonnes)</th>\n",
       "      <th>Ginger (000 tonnes)</th>\n",
       "      <th>Coconut (000 tonnes)</th>\n",
       "      <th>Turmeric (000 tonnes)</th>\n",
       "    </tr>\n",
       "  </thead>\n",
       "  <tbody>\n",
       "    <tr>\n",
       "      <th>0</th>\n",
       "      <td>2001-02</td>\n",
       "      <td>93340</td>\n",
       "      <td>7557</td>\n",
       "      <td>8284</td>\n",
       "      <td>13160</td>\n",
       "      <td>2375</td>\n",
       "      <td>577</td>\n",
       "      <td>72766.0</td>\n",
       "      <td>1425.0</td>\n",
       "      <td>199483</td>\n",
       "      <td>...</td>\n",
       "      <td>631.0</td>\n",
       "      <td>13160.0</td>\n",
       "      <td>297208.0</td>\n",
       "      <td>546.0</td>\n",
       "      <td>23924.0</td>\n",
       "      <td>62.0</td>\n",
       "      <td>1069.0</td>\n",
       "      <td>322.0</td>\n",
       "      <td>12963.0</td>\n",
       "      <td>563.0</td>\n",
       "    </tr>\n",
       "    <tr>\n",
       "      <th>1</th>\n",
       "      <td>2002-03</td>\n",
       "      <td>71820</td>\n",
       "      <td>7012</td>\n",
       "      <td>4719</td>\n",
       "      <td>11152</td>\n",
       "      <td>1316</td>\n",
       "      <td>459</td>\n",
       "      <td>65761.0</td>\n",
       "      <td>1407.0</td>\n",
       "      <td>163646</td>\n",
       "      <td>...</td>\n",
       "      <td>649.0</td>\n",
       "      <td>11975.0</td>\n",
       "      <td>287383.0</td>\n",
       "      <td>500.0</td>\n",
       "      <td>23269.0</td>\n",
       "      <td>72.0</td>\n",
       "      <td>895.0</td>\n",
       "      <td>280.0</td>\n",
       "      <td>12535.0</td>\n",
       "      <td>522.0</td>\n",
       "    </tr>\n",
       "    <tr>\n",
       "      <th>2</th>\n",
       "      <td>2003-04</td>\n",
       "      <td>88526</td>\n",
       "      <td>6681</td>\n",
       "      <td>12109</td>\n",
       "      <td>14984</td>\n",
       "      <td>1966</td>\n",
       "      <td>564</td>\n",
       "      <td>72156.0</td>\n",
       "      <td>1298.0</td>\n",
       "      <td>198284</td>\n",
       "      <td>...</td>\n",
       "      <td>712.0</td>\n",
       "      <td>11388.0</td>\n",
       "      <td>233862.0</td>\n",
       "      <td>550.0</td>\n",
       "      <td>23060.0</td>\n",
       "      <td>73.0</td>\n",
       "      <td>1236.0</td>\n",
       "      <td>302.0</td>\n",
       "      <td>12178.0</td>\n",
       "      <td>565.0</td>\n",
       "    </tr>\n",
       "    <tr>\n",
       "      <th>3</th>\n",
       "      <td>2004-05</td>\n",
       "      <td>83132</td>\n",
       "      <td>7244</td>\n",
       "      <td>7931</td>\n",
       "      <td>14172</td>\n",
       "      <td>2432</td>\n",
       "      <td>478</td>\n",
       "      <td>68637.0</td>\n",
       "      <td>1207.0</td>\n",
       "      <td>185233</td>\n",
       "      <td>...</td>\n",
       "      <td>750.0</td>\n",
       "      <td>11710.0</td>\n",
       "      <td>237088.0</td>\n",
       "      <td>549.0</td>\n",
       "      <td>23631.0</td>\n",
       "      <td>73.0</td>\n",
       "      <td>1186.0</td>\n",
       "      <td>359.0</td>\n",
       "      <td>12833.0</td>\n",
       "      <td>718.0</td>\n",
       "    </tr>\n",
       "    <tr>\n",
       "      <th>4</th>\n",
       "      <td>2005-06</td>\n",
       "      <td>91793</td>\n",
       "      <td>7630</td>\n",
       "      <td>7684</td>\n",
       "      <td>14710</td>\n",
       "      <td>2354</td>\n",
       "      <td>472</td>\n",
       "      <td>69355.0</td>\n",
       "      <td>1221.0</td>\n",
       "      <td>195217</td>\n",
       "      <td>...</td>\n",
       "      <td>803.0</td>\n",
       "      <td>12105.0</td>\n",
       "      <td>281172.0</td>\n",
       "      <td>552.0</td>\n",
       "      <td>23905.0</td>\n",
       "      <td>93.0</td>\n",
       "      <td>1015.0</td>\n",
       "      <td>391.0</td>\n",
       "      <td>14811.0</td>\n",
       "      <td>852.0</td>\n",
       "    </tr>\n",
       "  </tbody>\n",
       "</table>\n",
       "<p>5 rows × 36 columns</p>\n",
       "</div>"
      ],
      "text/plain": [
       "      Year  Food Grains (Cereals) - Rice (000 tonnes)  \\\n",
       "0  2001-02                                      93340   \n",
       "1  2002-03                                      71820   \n",
       "2  2003-04                                      88526   \n",
       "3  2004-05                                      83132   \n",
       "4  2005-06                                      91793   \n",
       "\n",
       "   Food Grains (Cereals) - Jowar (000 tonnes)  \\\n",
       "0                                        7557   \n",
       "1                                        7012   \n",
       "2                                        6681   \n",
       "3                                        7244   \n",
       "4                                        7630   \n",
       "\n",
       "   Food Grains (Cereals) - Bajra (000 tonnes)  \\\n",
       "0                                        8284   \n",
       "1                                        4719   \n",
       "2                                       12109   \n",
       "3                                        7931   \n",
       "4                                        7684   \n",
       "\n",
       "   Food Grains (Cereals) - Maize (000 tonnes)  \\\n",
       "0                                       13160   \n",
       "1                                       11152   \n",
       "2                                       14984   \n",
       "3                                       14172   \n",
       "4                                       14710   \n",
       "\n",
       "   Food Grains (Cereals) - Ragi (000 tonnes)  \\\n",
       "0                                       2375   \n",
       "1                                       1316   \n",
       "2                                       1966   \n",
       "3                                       2432   \n",
       "4                                       2354   \n",
       "\n",
       "   Food Grains (Cereals) - Small Millets (000 tonnes)  \\\n",
       "0                                                577    \n",
       "1                                                459    \n",
       "2                                                564    \n",
       "3                                                478    \n",
       "4                                                472    \n",
       "\n",
       "   Food Grains (Cereals) - Wheat (000 tonnes)  \\\n",
       "0                                     72766.0   \n",
       "1                                     65761.0   \n",
       "2                                     72156.0   \n",
       "3                                     68637.0   \n",
       "4                                     69355.0   \n",
       "\n",
       "   Food Grains (Cereals) - Barley (000 tonnes)  \\\n",
       "0                                       1425.0   \n",
       "1                                       1407.0   \n",
       "2                                       1298.0   \n",
       "3                                       1207.0   \n",
       "4                                       1221.0   \n",
       "\n",
       "   Food Grains (Cereals) - Total (000 tonnes)  ...  Natural Rubber (000 MT)  \\\n",
       "0                                      199483  ...                    631.0   \n",
       "1                                      163646  ...                    649.0   \n",
       "2                                      198284  ...                    712.0   \n",
       "3                                      185233  ...                    750.0   \n",
       "4                                      195217  ...                    803.0   \n",
       "\n",
       "   Banana (000 tonnes)  Sugarcane (000 tonnes)  Tobacco (000 tonnes)  \\\n",
       "0              13160.0                297208.0                 546.0   \n",
       "1              11975.0                287383.0                 500.0   \n",
       "2              11388.0                233862.0                 550.0   \n",
       "3              11710.0                237088.0                 549.0   \n",
       "4              12105.0                281172.0                 552.0   \n",
       "\n",
       "   Potatoes (000 tonnes)  Black Pepper (000 tonnes)  Chillies (000 tonnes)  \\\n",
       "0                23924.0                       62.0                 1069.0   \n",
       "1                23269.0                       72.0                  895.0   \n",
       "2                23060.0                       73.0                 1236.0   \n",
       "3                23631.0                       73.0                 1186.0   \n",
       "4                23905.0                       93.0                 1015.0   \n",
       "\n",
       "   Ginger (000 tonnes)  Coconut (000 tonnes)  Turmeric (000 tonnes)  \n",
       "0                322.0               12963.0                  563.0  \n",
       "1                280.0               12535.0                  522.0  \n",
       "2                302.0               12178.0                  565.0  \n",
       "3                359.0               12833.0                  718.0  \n",
       "4                391.0               14811.0                  852.0  \n",
       "\n",
       "[5 rows x 36 columns]"
      ]
     },
     "execution_count": 4,
     "metadata": {},
     "output_type": "execute_result"
    }
   ],
   "source": [
    "# Reading the CSV files\n",
    "\n",
    "df = p.read_csv(\"grains_production_india_from_2001_to_2017.csv\")\n",
    "df.head()"
   ]
  },
  {
   "cell_type": "code",
   "execution_count": 5,
   "metadata": {},
   "outputs": [
    {
     "data": {
      "text/plain": [
       "Index(['Year', 'Food Grains (Cereals) - Rice (000 tonnes)',\n",
       "       'Food Grains (Cereals) - Jowar (000 tonnes)',\n",
       "       'Food Grains (Cereals) - Bajra (000 tonnes)',\n",
       "       'Food Grains (Cereals) - Maize (000 tonnes)',\n",
       "       'Food Grains (Cereals) - Ragi (000 tonnes)',\n",
       "       'Food Grains (Cereals) - Small Millets (000 tonnes)',\n",
       "       'Food Grains (Cereals) - Wheat (000 tonnes)',\n",
       "       'Food Grains (Cereals) - Barley (000 tonnes)',\n",
       "       'Food Grains (Cereals) - Total (000 tonnes)',\n",
       "       'Food Grains (Pulses) - Gram (000 tonnes)',\n",
       "       'Food Grains (Pulses) - Tur (000 tonnes)',\n",
       "       'Food Grains (Pulses) - Other Pulses (000 tonnes)',\n",
       "       'Food Grains (Pulses) - Total (000 tonnes)',\n",
       "       'Food Grains - Total (000 tonnes)',\n",
       "       'Oilseeds - Ground-nuts (000 tonnes)',\n",
       "       'Oilseeds - Sesamum (000 tonnes)',\n",
       "       'Oilseeds - Rapeseed and Mustard (000 tonnes)',\n",
       "       'Oilseeds - Linseed (000 tonnes)',\n",
       "       'Oilseeds - Castor seed (000 tonnes)',\n",
       "       'Total Nine Oilseeds (000 tonnes)', 'Cotton (000 Bales)',\n",
       "       'Jute (000 Bales)', 'Mesta (000 Bales)', 'Tea (Million kgs)',\n",
       "       'Coffee (000 MT)', 'Natural Rubber (000 MT)', 'Banana (000 tonnes)',\n",
       "       'Sugarcane (000 tonnes)', 'Tobacco (000 tonnes)',\n",
       "       'Potatoes (000 tonnes)', 'Black Pepper (000 tonnes)',\n",
       "       'Chillies (000 tonnes)', 'Ginger (000 tonnes)', 'Coconut (000 tonnes)',\n",
       "       'Turmeric (000 tonnes)'],\n",
       "      dtype='object')"
      ]
     },
     "execution_count": 5,
     "metadata": {},
     "output_type": "execute_result"
    }
   ],
   "source": [
    "# Cheacking the diffrent columns\n",
    "df.columns"
   ]
  },
  {
   "cell_type": "code",
   "execution_count": 19,
   "metadata": {},
   "outputs": [
    {
     "data": {
      "text/html": [
       "<div>\n",
       "<style scoped>\n",
       "    .dataframe tbody tr th:only-of-type {\n",
       "        vertical-align: middle;\n",
       "    }\n",
       "\n",
       "    .dataframe tbody tr th {\n",
       "        vertical-align: top;\n",
       "    }\n",
       "\n",
       "    .dataframe thead th {\n",
       "        text-align: right;\n",
       "    }\n",
       "</style>\n",
       "<table border=\"1\" class=\"dataframe\">\n",
       "  <thead>\n",
       "    <tr style=\"text-align: right;\">\n",
       "      <th></th>\n",
       "      <th>Year</th>\n",
       "      <th>Food Grains (Cereals) - Rice (000 tonnes)</th>\n",
       "      <th>Food Grains (Cereals) - Jowar (000 tonnes)</th>\n",
       "      <th>Food Grains (Cereals) - Bajra (000 tonnes)</th>\n",
       "      <th>Food Grains (Cereals) - Maize (000 tonnes)</th>\n",
       "      <th>Food Grains (Cereals) - Ragi (000 tonnes)</th>\n",
       "      <th>Food Grains (Cereals) - Small Millets (000 tonnes)</th>\n",
       "      <th>Food Grains (Cereals) - Wheat (000 tonnes)</th>\n",
       "      <th>Food Grains (Cereals) - Barley (000 tonnes)</th>\n",
       "    </tr>\n",
       "  </thead>\n",
       "  <tbody>\n",
       "    <tr>\n",
       "      <th>0</th>\n",
       "      <td>2001-02</td>\n",
       "      <td>93340</td>\n",
       "      <td>7557</td>\n",
       "      <td>8284</td>\n",
       "      <td>13160</td>\n",
       "      <td>2375</td>\n",
       "      <td>577</td>\n",
       "      <td>72766.0</td>\n",
       "      <td>1425.0</td>\n",
       "    </tr>\n",
       "    <tr>\n",
       "      <th>1</th>\n",
       "      <td>2002-03</td>\n",
       "      <td>71820</td>\n",
       "      <td>7012</td>\n",
       "      <td>4719</td>\n",
       "      <td>11152</td>\n",
       "      <td>1316</td>\n",
       "      <td>459</td>\n",
       "      <td>65761.0</td>\n",
       "      <td>1407.0</td>\n",
       "    </tr>\n",
       "    <tr>\n",
       "      <th>2</th>\n",
       "      <td>2003-04</td>\n",
       "      <td>88526</td>\n",
       "      <td>6681</td>\n",
       "      <td>12109</td>\n",
       "      <td>14984</td>\n",
       "      <td>1966</td>\n",
       "      <td>564</td>\n",
       "      <td>72156.0</td>\n",
       "      <td>1298.0</td>\n",
       "    </tr>\n",
       "    <tr>\n",
       "      <th>3</th>\n",
       "      <td>2004-05</td>\n",
       "      <td>83132</td>\n",
       "      <td>7244</td>\n",
       "      <td>7931</td>\n",
       "      <td>14172</td>\n",
       "      <td>2432</td>\n",
       "      <td>478</td>\n",
       "      <td>68637.0</td>\n",
       "      <td>1207.0</td>\n",
       "    </tr>\n",
       "    <tr>\n",
       "      <th>4</th>\n",
       "      <td>2005-06</td>\n",
       "      <td>91793</td>\n",
       "      <td>7630</td>\n",
       "      <td>7684</td>\n",
       "      <td>14710</td>\n",
       "      <td>2354</td>\n",
       "      <td>472</td>\n",
       "      <td>69355.0</td>\n",
       "      <td>1221.0</td>\n",
       "    </tr>\n",
       "  </tbody>\n",
       "</table>\n",
       "</div>"
      ],
      "text/plain": [
       "      Year  Food Grains (Cereals) - Rice (000 tonnes)  \\\n",
       "0  2001-02                                      93340   \n",
       "1  2002-03                                      71820   \n",
       "2  2003-04                                      88526   \n",
       "3  2004-05                                      83132   \n",
       "4  2005-06                                      91793   \n",
       "\n",
       "   Food Grains (Cereals) - Jowar (000 tonnes)  \\\n",
       "0                                        7557   \n",
       "1                                        7012   \n",
       "2                                        6681   \n",
       "3                                        7244   \n",
       "4                                        7630   \n",
       "\n",
       "   Food Grains (Cereals) - Bajra (000 tonnes)  \\\n",
       "0                                        8284   \n",
       "1                                        4719   \n",
       "2                                       12109   \n",
       "3                                        7931   \n",
       "4                                        7684   \n",
       "\n",
       "   Food Grains (Cereals) - Maize (000 tonnes)  \\\n",
       "0                                       13160   \n",
       "1                                       11152   \n",
       "2                                       14984   \n",
       "3                                       14172   \n",
       "4                                       14710   \n",
       "\n",
       "   Food Grains (Cereals) - Ragi (000 tonnes)  \\\n",
       "0                                       2375   \n",
       "1                                       1316   \n",
       "2                                       1966   \n",
       "3                                       2432   \n",
       "4                                       2354   \n",
       "\n",
       "   Food Grains (Cereals) - Small Millets (000 tonnes)  \\\n",
       "0                                                577    \n",
       "1                                                459    \n",
       "2                                                564    \n",
       "3                                                478    \n",
       "4                                                472    \n",
       "\n",
       "   Food Grains (Cereals) - Wheat (000 tonnes)  \\\n",
       "0                                     72766.0   \n",
       "1                                     65761.0   \n",
       "2                                     72156.0   \n",
       "3                                     68637.0   \n",
       "4                                     69355.0   \n",
       "\n",
       "   Food Grains (Cereals) - Barley (000 tonnes)  \n",
       "0                                       1425.0  \n",
       "1                                       1407.0  \n",
       "2                                       1298.0  \n",
       "3                                       1207.0  \n",
       "4                                       1221.0  "
      ]
     },
     "execution_count": 19,
     "metadata": {},
     "output_type": "execute_result"
    }
   ],
   "source": [
    "# Changing the columns to only Cereals\n",
    "df1 = df[['Year', 'Food Grains (Cereals) - Rice (000 tonnes)',\n",
    "       'Food Grains (Cereals) - Jowar (000 tonnes)',\n",
    "       'Food Grains (Cereals) - Bajra (000 tonnes)',\n",
    "       'Food Grains (Cereals) - Maize (000 tonnes)',\n",
    "       'Food Grains (Cereals) - Ragi (000 tonnes)',\n",
    "       'Food Grains (Cereals) - Small Millets (000 tonnes)',\n",
    "       'Food Grains (Cereals) - Wheat (000 tonnes)',\n",
    "       'Food Grains (Cereals) - Barley (000 tonnes)']]\n",
    "df1.head()"
   ]
  },
  {
   "cell_type": "code",
   "execution_count": 7,
   "metadata": {},
   "outputs": [
    {
     "name": "stderr",
     "output_type": "stream",
     "text": [
      "d:\\New folder\\SEm6\\sem6\\lib\\site-packages\\pandas\\core\\frame.py:5039: SettingWithCopyWarning: \n",
      "A value is trying to be set on a copy of a slice from a DataFrame\n",
      "\n",
      "See the caveats in the documentation: https://pandas.pydata.org/pandas-docs/stable/user_guide/indexing.html#returning-a-view-versus-a-copy\n",
      "  return super().rename(\n"
     ]
    }
   ],
   "source": [
    "# Renaming to the name of Cereals\n",
    "df1.rename(columns = {'Food Grains (Cereals) - Rice (000 tonnes)':'Rice',\n",
    "                      'Food Grains (Cereals) - Jowar (000 tonnes)':'Jowar',\n",
    "                      'Food Grains (Cereals) - Bajra (000 tonnes)': 'Bajra', \n",
    "                      'Food Grains (Cereals) - Maize (000 tonnes)' : 'Maize',\n",
    "                      'Food Grains (Cereals) - Ragi (000 tonnes)': 'Ragi',\n",
    "                      'Food Grains (Cereals) - Small Millets (000 tonnes)':'Small Millets',\n",
    "                      'Food Grains (Cereals) - Wheat (000 tonnes)' : 'Wheat',\n",
    "                      'Food Grains (Cereals) - Barley (000 tonnes)': 'Barley'}, inplace = True)"
   ]
  },
  {
   "cell_type": "code",
   "execution_count": 8,
   "metadata": {},
   "outputs": [
    {
     "data": {
      "image/png": "[encoded data removed]",
      "text/plain": [
       "<Figure size 1080x432 with 1 Axes>"
      ]
     },
     "metadata": {
      "needs_background": "light"
     },
     "output_type": "display_data"
    }
   ],
   "source": [
    "\n",
    "ax = plt.subplots(figsize=(15,6))"
   ]
  },
  {
   "cell_type": "code",
   "execution_count": 9,
   "metadata": {},
   "outputs": [
    {
     "data": {
      "text/plain": [
       "<AxesSubplot:>"
      ]
     },
     "execution_count": 9,
     "metadata": {},
     "output_type": "execute_result"
    },
    {
     "data": {
      "image/png": "[encoded data removed]",
      "text/plain": [
       "<Figure size 432x288 with 1 Axes>"
      ]
     },
     "metadata": {
      "needs_background": "light"
     },
     "output_type": "display_data"
    }
   ],
   "source": [
    "# Ploting the Box  Graph\n",
    "sns.boxplot(data=df1)"
   ]
  },
  {
   "cell_type": "code",
   "execution_count": 15,
   "metadata": {},
   "outputs": [
    {
     "name": "stderr",
     "output_type": "stream",
     "text": [
      "d:\\New folder\\SEm6\\sem6\\lib\\site-packages\\pandas\\core\\frame.py:5039: SettingWithCopyWarning: \n",
      "A value is trying to be set on a copy of a slice from a DataFrame\n",
      "\n",
      "See the caveats in the documentation: https://pandas.pydata.org/pandas-docs/stable/user_guide/indexing.html#returning-a-view-versus-a-copy\n",
      "  return super().rename(\n"
     ]
    }
   ],
   "source": [
    "# Similarlly like above for Pluses\n",
    "df2 = df[['Food Grains (Pulses) - Gram (000 tonnes)',\n",
    "       'Food Grains (Pulses) - Tur (000 tonnes)',\n",
    "       'Food Grains (Pulses) - Other Pulses (000 tonnes)']]\n",
    "df2.rename(columns = {'Food Grains (Pulses) - Gram (000 tonnes)':'Gram',\n",
    "       'Food Grains (Pulses) - Tur (000 tonnes)':'Tur',\n",
    "       'Food Grains (Pulses) - Other Pulses (000 tonnes)':'Other Pulses'}, inplace = True)"
   ]
  },
  {
   "cell_type": "code",
   "execution_count": 16,
   "metadata": {},
   "outputs": [
    {
     "data": {
      "text/plain": [
       "<AxesSubplot:>"
      ]
     },
     "execution_count": 16,
     "metadata": {},
     "output_type": "execute_result"
    },
    {
     "data": {
      "image/png": "[encoded data removed]",
      "text/plain": [
       "<Figure size 432x288 with 1 Axes>"
      ]
     },
     "metadata": {
      "needs_background": "light"
     },
     "output_type": "display_data"
    }
   ],
   "source": [
    "# Voilin PLot\n",
    "sns.violinplot(data=df2)"
   ]
  },
  {
   "cell_type": "code",
   "execution_count": 17,
   "metadata": {},
   "outputs": [
    {
     "name": "stderr",
     "output_type": "stream",
     "text": [
      "d:\\New folder\\SEm6\\sem6\\lib\\site-packages\\pandas\\core\\frame.py:5039: SettingWithCopyWarning: \n",
      "A value is trying to be set on a copy of a slice from a DataFrame\n",
      "\n",
      "See the caveats in the documentation: https://pandas.pydata.org/pandas-docs/stable/user_guide/indexing.html#returning-a-view-versus-a-copy\n",
      "  return super().rename(\n"
     ]
    }
   ],
   "source": [
    "# Similarlly for OilSeeds\n",
    "\n",
    "df3 = df[['Oilseeds - Ground-nuts (000 tonnes)',\n",
    "       'Oilseeds - Sesamum (000 tonnes)',\n",
    "       'Oilseeds - Rapeseed and Mustard (000 tonnes)',\n",
    "       'Oilseeds - Linseed (000 tonnes)',\n",
    "       'Oilseeds - Castor seed (000 tonnes)']]\n",
    "df3.rename(columns = {'Oilseeds - Ground-nuts (000 tonnes)':'Ground-nuts',\n",
    "       'Oilseeds - Sesamum (000 tonnes)':'Sesanum',\n",
    "       'Oilseeds - Rapeseed and Mustard (000 tonnes)':'Rapeseed and Mustard',\n",
    "       'Oilseeds - Linseed (000 tonnes)':':Linseed',\n",
    "       'Oilseeds - Castor seed (000 tonnes)':'Castor Seed'}, inplace = True)"
   ]
  },
  {
   "cell_type": "code",
   "execution_count": 18,
   "metadata": {},
   "outputs": [
    {
     "data": {
      "text/plain": [
       "<AxesSubplot:>"
      ]
     },
     "execution_count": 18,
     "metadata": {},
     "output_type": "execute_result"
    },
    {
     "data": {
      "image/png": "[encoded data removed]",
      "text/plain": [
       "<Figure size 1080x432 with 1 Axes>"
      ]
     },
     "metadata": {
      "needs_background": "light"
     },
     "output_type": "display_data"
    }
   ],
   "source": [
    "ax = plt.subplots(figsize=(15,6))\n",
    "# Strip PLot\n",
    "sns.stripplot(data=df3)"
   ]
  }
 ],
 "metadata": {
  "interpreter": {
   "hash": "17e4362123664f0dcc33d7d2fb68d2846e8c274c1dad485c2b528bbc5bde5de1"
  },
  "kernelspec": {
   "display_name": "Python 3.9.6 64-bit ('sem6': venv)",
   "language": "python",
   "name": "python3"
  },
  "language_info": {
   "codemirror_mode": {
    "name": "ipython",
    "version": 3
   },
   "file_extension": ".py",
   "mimetype": "text/x-python",
   "name": "python",
   "nbconvert_exporter": "python",
   "pygments_lexer": "ipython3",
   "version": "3.9.6"
  },
  "orig_nbformat": 4
 },
 "nbformat": 4,
 "nbformat_minor": 2
}
