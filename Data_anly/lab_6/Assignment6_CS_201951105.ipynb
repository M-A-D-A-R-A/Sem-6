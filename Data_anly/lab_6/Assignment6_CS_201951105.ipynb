{
 "cells": [
  {
   "cell_type": "markdown",
   "metadata": {},
   "source": [
    "201951105\n",
    "Nishant Andoriya"
   ]
  },
  {
   "cell_type": "code",
   "execution_count": 1,
   "metadata": {},
   "outputs": [],
   "source": [
    "import pandas as pd\n",
    "import numpy as np\n",
    "import matplotlib.pyplot as plt\n",
    "import seaborn as sns\n",
    "import math"
   ]
  },
  {
   "cell_type": "code",
   "execution_count": 2,
   "metadata": {},
   "outputs": [
    {
     "data": {
      "text/html": [
       "<div>\n",
       "<style scoped>\n",
       "    .dataframe tbody tr th:only-of-type {\n",
       "        vertical-align: middle;\n",
       "    }\n",
       "\n",
       "    .dataframe tbody tr th {\n",
       "        vertical-align: top;\n",
       "    }\n",
       "\n",
       "    .dataframe thead th {\n",
       "        text-align: right;\n",
       "    }\n",
       "</style>\n",
       "<table border=\"1\" class=\"dataframe\">\n",
       "  <thead>\n",
       "    <tr style=\"text-align: right;\">\n",
       "      <th></th>\n",
       "      <th>Company Name</th>\n",
       "      <th>Index_type</th>\n",
       "      <th>Sector</th>\n",
       "      <th>Industry</th>\n",
       "      <th>Symbol</th>\n",
       "      <th>P/E</th>\n",
       "      <th>MarketCap</th>\n",
       "    </tr>\n",
       "  </thead>\n",
       "  <tbody>\n",
       "    <tr>\n",
       "      <th>0</th>\n",
       "      <td>Reliance Industries Limited</td>\n",
       "      <td>Large</td>\n",
       "      <td>Energy</td>\n",
       "      <td>Oil &amp; Gas Refining &amp; Marketing</td>\n",
       "      <td>RELIANCE</td>\n",
       "      <td>27.617010</td>\n",
       "      <td>1.631686e+13</td>\n",
       "    </tr>\n",
       "    <tr>\n",
       "      <th>1</th>\n",
       "      <td>Tata Consultancy Services Limited</td>\n",
       "      <td>Large</td>\n",
       "      <td>Technology</td>\n",
       "      <td>Information Technology Services</td>\n",
       "      <td>TCS</td>\n",
       "      <td>37.613270</td>\n",
       "      <td>1.415626e+13</td>\n",
       "    </tr>\n",
       "    <tr>\n",
       "      <th>2</th>\n",
       "      <td>HDFC Bank Limited</td>\n",
       "      <td>Large</td>\n",
       "      <td>Financial Services</td>\n",
       "      <td>Banks—Regional</td>\n",
       "      <td>HDFCBANK</td>\n",
       "      <td>23.326649</td>\n",
       "      <td>8.380209e+12</td>\n",
       "    </tr>\n",
       "    <tr>\n",
       "      <th>3</th>\n",
       "      <td>Infosys Limited</td>\n",
       "      <td>Large</td>\n",
       "      <td>Technology</td>\n",
       "      <td>Information Technology Services</td>\n",
       "      <td>INFY</td>\n",
       "      <td>33.900620</td>\n",
       "      <td>7.280080e+12</td>\n",
       "    </tr>\n",
       "    <tr>\n",
       "      <th>4</th>\n",
       "      <td>Hindustan Unilever Limited</td>\n",
       "      <td>Large</td>\n",
       "      <td>Consumer Defensive</td>\n",
       "      <td>Household &amp; Personal Products</td>\n",
       "      <td>HINDUNILVR</td>\n",
       "      <td>61.147617</td>\n",
       "      <td>5.356948e+12</td>\n",
       "    </tr>\n",
       "    <tr>\n",
       "      <th>...</th>\n",
       "      <td>...</td>\n",
       "      <td>...</td>\n",
       "      <td>...</td>\n",
       "      <td>...</td>\n",
       "      <td>...</td>\n",
       "      <td>...</td>\n",
       "      <td>...</td>\n",
       "    </tr>\n",
       "    <tr>\n",
       "      <th>1915</th>\n",
       "      <td>CKP Leisure Limited</td>\n",
       "      <td>None</td>\n",
       "      <td>Don't Know</td>\n",
       "      <td>Don't Know</td>\n",
       "      <td>CKPLEISURE</td>\n",
       "      <td>0.000000</td>\n",
       "      <td>0.000000e+00</td>\n",
       "    </tr>\n",
       "    <tr>\n",
       "      <th>1916</th>\n",
       "      <td>CKP Products Limited</td>\n",
       "      <td>None</td>\n",
       "      <td>Don't Know</td>\n",
       "      <td>Don't Know</td>\n",
       "      <td>CKPPRODUCT</td>\n",
       "      <td>0.000000</td>\n",
       "      <td>0.000000e+00</td>\n",
       "    </tr>\n",
       "    <tr>\n",
       "      <th>1917</th>\n",
       "      <td>Fourth Dimension Solutions Limited</td>\n",
       "      <td>None</td>\n",
       "      <td>Don't Know</td>\n",
       "      <td>Don't Know</td>\n",
       "      <td>FOURTHDIM</td>\n",
       "      <td>0.000000</td>\n",
       "      <td>0.000000e+00</td>\n",
       "    </tr>\n",
       "    <tr>\n",
       "      <th>1918</th>\n",
       "      <td>Artedz Fabs Limited</td>\n",
       "      <td>None</td>\n",
       "      <td>Don't Know</td>\n",
       "      <td>Don't Know</td>\n",
       "      <td>ARTEDZ</td>\n",
       "      <td>0.000000</td>\n",
       "      <td>0.000000e+00</td>\n",
       "    </tr>\n",
       "    <tr>\n",
       "      <th>1919</th>\n",
       "      <td>Bansal Multiflex Limited</td>\n",
       "      <td>None</td>\n",
       "      <td>Don't Know</td>\n",
       "      <td>Don't Know</td>\n",
       "      <td>BANSAL</td>\n",
       "      <td>0.000000</td>\n",
       "      <td>0.000000e+00</td>\n",
       "    </tr>\n",
       "  </tbody>\n",
       "</table>\n",
       "<p>1920 rows × 7 columns</p>\n",
       "</div>"
      ],
      "text/plain": [
       "                            Company Name Index_type              Sector  \\\n",
       "0            Reliance Industries Limited      Large              Energy   \n",
       "1      Tata Consultancy Services Limited      Large          Technology   \n",
       "2                      HDFC Bank Limited      Large  Financial Services   \n",
       "3                        Infosys Limited      Large          Technology   \n",
       "4             Hindustan Unilever Limited      Large  Consumer Defensive   \n",
       "...                                  ...        ...                 ...   \n",
       "1915                 CKP Leisure Limited       None          Don't Know   \n",
       "1916                CKP Products Limited       None          Don't Know   \n",
       "1917  Fourth Dimension Solutions Limited       None          Don't Know   \n",
       "1918                 Artedz Fabs Limited       None          Don't Know   \n",
       "1919            Bansal Multiflex Limited       None          Don't Know   \n",
       "\n",
       "                             Industry      Symbol        P/E     MarketCap  \n",
       "0      Oil & Gas Refining & Marketing    RELIANCE  27.617010  1.631686e+13  \n",
       "1     Information Technology Services         TCS  37.613270  1.415626e+13  \n",
       "2                      Banks—Regional    HDFCBANK  23.326649  8.380209e+12  \n",
       "3     Information Technology Services        INFY  33.900620  7.280080e+12  \n",
       "4       Household & Personal Products  HINDUNILVR  61.147617  5.356948e+12  \n",
       "...                               ...         ...        ...           ...  \n",
       "1915                       Don't Know  CKPLEISURE   0.000000  0.000000e+00  \n",
       "1916                       Don't Know  CKPPRODUCT   0.000000  0.000000e+00  \n",
       "1917                       Don't Know   FOURTHDIM   0.000000  0.000000e+00  \n",
       "1918                       Don't Know      ARTEDZ   0.000000  0.000000e+00  \n",
       "1919                       Don't Know      BANSAL   0.000000  0.000000e+00  \n",
       "\n",
       "[1920 rows x 7 columns]"
      ]
     },
     "execution_count": 2,
     "metadata": {},
     "output_type": "execute_result"
    }
   ],
   "source": [
    "stocks=pd.read_csv(\"Stocks_pe.csv\")\n",
    "stocks"
   ]
  },
  {
   "cell_type": "code",
   "execution_count": 4,
   "metadata": {},
   "outputs": [
    {
     "name": "stderr",
     "output_type": "stream",
     "text": [
      "d:\\New folder\\SEm6\\sem6\\lib\\site-packages\\pandas\\util\\_decorators.py:311: SettingWithCopyWarning: \n",
      "A value is trying to be set on a copy of a slice from a DataFrame\n",
      "\n",
      "See the caveats in the documentation: https://pandas.pydata.org/pandas-docs/stable/user_guide/indexing.html#returning-a-view-versus-a-copy\n",
      "  return func(*args, **kwargs)\n"
     ]
    }
   ],
   "source": [
    "stocks=stocks[(stocks[\"P/E\"]!=0) & (stocks[\"MarketCap\"]!=0)]\n",
    "#stocks[stocks[\"MarketCap\"].isnull()==True]\n",
    "stocks.dropna(inplace=True)"
   ]
  },
  {
   "cell_type": "code",
   "execution_count": 3,
   "metadata": {},
   "outputs": [
    {
     "name": "stdout",
     "output_type": "stream",
     "text": [
      "123674921588.13452\n",
      "3458972928.0\n",
      "33.97890578725468\n",
      "11.129046\n"
     ]
    }
   ],
   "source": [
    "print(stocks[\"MarketCap\"].mean())\n",
    "print(stocks[\"MarketCap\"].median())\n",
    "\n",
    "print(stocks[\"P/E\"].mean())\n",
    "print(stocks[\"P/E\"].median())"
   ]
  },
  {
   "cell_type": "code",
   "execution_count": 6,
   "metadata": {},
   "outputs": [
    {
     "data": {
      "text/plain": [
       "<AxesSubplot:ylabel='P/E'>"
      ]
     },
     "execution_count": 6,
     "metadata": {},
     "output_type": "execute_result"
    },
    {
     "data": {
      "image/png": "[encoded data removed]",
      "text/plain": [
       "<Figure size 432x288 with 1 Axes>"
      ]
     },
     "metadata": {
      "needs_background": "light"
     },
     "output_type": "display_data"
    }
   ],
   "source": [
    "sns.boxplot(y=stocks[\"P/E\"])"
   ]
  },
  {
   "cell_type": "code",
   "execution_count": 49,
   "metadata": {},
   "outputs": [
    {
     "data": {
      "text/plain": [
       "<AxesSubplot:xlabel='P/E', ylabel='Count'>"
      ]
     },
     "execution_count": 49,
     "metadata": {},
     "output_type": "execute_result"
    },
    {
     "data": {
      "image/png": "[encoded data removed]",
      "text/plain": [
       "<Figure size 432x288 with 1 Axes>"
      ]
     },
     "metadata": {
      "needs_background": "light"
     },
     "output_type": "display_data"
    }
   ],
   "source": [
    "sns.histplot(stocks[\"P/E\"],kde=True)"
   ]
  },
  {
   "cell_type": "code",
   "execution_count": 4,
   "metadata": {},
   "outputs": [],
   "source": [
    "# Weights\n",
    "stocks[\"wt\"]=stocks[\"MarketCap\"]/stocks[\"MarketCap\"].sum()"
   ]
  },
  {
   "cell_type": "code",
   "execution_count": 5,
   "metadata": {},
   "outputs": [
    {
     "data": {
      "text/plain": [
       "74.233311186291"
      ]
     },
     "execution_count": 5,
     "metadata": {},
     "output_type": "execute_result"
    }
   ],
   "source": [
    "#Weighted Mean\n",
    "tmp=(stocks[\"P/E\"]*stocks[\"wt\"])/stocks[\"wt\"].sum()\n",
    "weighted_mean=tmp.sum()\n",
    "weighted_mean"
   ]
  },
  {
   "cell_type": "code",
   "execution_count": 52,
   "metadata": {},
   "outputs": [
    {
     "data": {
      "text/plain": [
       "32.069355"
      ]
     },
     "execution_count": 52,
     "metadata": {},
     "output_type": "execute_result"
    }
   ],
   "source": [
    "# Weighted Median\n",
    "sort_data = stocks.sort_values(by=[\"P/E\"])\n",
    "\n",
    "wgtsum=0\n",
    "for idx, w in sort_data.iterrows():\n",
    "    wgtsum+=w[\"wt\"]\n",
    "    if wgtsum>=0.5:\n",
    "        weighted_median=w[\"P/E\"]\n",
    "        break\n",
    "weighted_median"
   ]
  },
  {
   "cell_type": "code",
   "execution_count": 53,
   "metadata": {},
   "outputs": [
    {
     "data": {
      "text/plain": [
       "25.920835533568543"
      ]
     },
     "execution_count": 53,
     "metadata": {},
     "output_type": "execute_result"
    }
   ],
   "source": [
    "# Trimmed Mean\n",
    "\n",
    "trimmed_percentage=0.1\n",
    "trim_num=math.floor(len(sort_data)*trimmed_percentage)\n",
    "trim_mean=sort_data[\"P/E\"].iloc[trim_num:len(sort_data)-trim_num].mean()\n",
    "trim_mean"
   ]
  },
  {
   "cell_type": "markdown",
   "metadata": {},
   "source": [
    "Estimates of Variability"
   ]
  },
  {
   "cell_type": "code",
   "execution_count": 6,
   "metadata": {},
   "outputs": [
    {
     "data": {
      "text/plain": [
       "148.43935983865651"
      ]
     },
     "execution_count": 6,
     "metadata": {},
     "output_type": "execute_result"
    }
   ],
   "source": [
    "#Standard Deviation\n",
    "stocks[\"P/E\"].std()"
   ]
  },
  {
   "cell_type": "code",
   "execution_count": 7,
   "metadata": {},
   "outputs": [
    {
     "data": {
      "text/plain": [
       "22034.24354931015"
      ]
     },
     "execution_count": 7,
     "metadata": {},
     "output_type": "execute_result"
    }
   ],
   "source": [
    "#Variance\n",
    "stocks[\"P/E\"].var()"
   ]
  },
  {
   "cell_type": "code",
   "execution_count": 8,
   "metadata": {},
   "outputs": [
    {
     "data": {
      "text/plain": [
       "40.20575853124191"
      ]
     },
     "execution_count": 8,
     "metadata": {},
     "output_type": "execute_result"
    }
   ],
   "source": [
    "#Mean abs Deviation\n",
    "data1=stocks[\"P/E\"]-stocks[\"P/E\"].mean()\n",
    "data2=data1.abs()\n",
    "data2.mean()"
   ]
  },
  {
   "cell_type": "code",
   "execution_count": 57,
   "metadata": {},
   "outputs": [
    {
     "data": {
      "text/plain": [
       "11.5634205"
      ]
     },
     "execution_count": 57,
     "metadata": {},
     "output_type": "execute_result"
    }
   ],
   "source": [
    "#Median absolute Deviation from median\n",
    "data1=stocks[\"P/E\"]-stocks[\"P/E\"].median()\n",
    "data2=data1.abs()\n",
    "data2.median()"
   ]
  },
  {
   "cell_type": "code",
   "execution_count": 58,
   "metadata": {},
   "outputs": [
    {
     "name": "stdout",
     "output_type": "stream",
     "text": [
      "3512.5 0.019769566\n",
      "Range = 3512.480230434\n"
     ]
    }
   ],
   "source": [
    "#Range (Order Statistics)\n",
    "\n",
    "print(sort_data['P/E'].iloc[-1],sort_data['P/E'].iloc[0])\n",
    "print(\"Range =\",sort_data['P/E'].iloc[-1]-sort_data['P/E'].iloc[0])"
   ]
  },
  {
   "cell_type": "code",
   "execution_count": 59,
   "metadata": {},
   "outputs": [
    {
     "name": "stdout",
     "output_type": "stream",
     "text": [
      "20.721981\n",
      "619\n"
     ]
    }
   ],
   "source": [
    "#Percentile (Order Statistics)\n",
    "\n",
    "th=stocks[\"P/E\"].quantile(0.5)\n",
    "print(th)\n",
    "print((stocks[\"P/E\"]<th).sum())"
   ]
  },
  {
   "cell_type": "code",
   "execution_count": 60,
   "metadata": {},
   "outputs": [
    {
     "data": {
      "text/plain": [
       "28.5075825"
      ]
     },
     "execution_count": 60,
     "metadata": {},
     "output_type": "execute_result"
    }
   ],
   "source": [
    "# Inter Quantile Range\n",
    "\n",
    "IQR=stocks[\"P/E\"].quantile(0.75)-stocks[\"P/E\"].quantile(0.25)\n",
    "IQR"
   ]
  }
 ],
 "metadata": {
  "interpreter": {
   "hash": "8807348ebce35fa22c7e2ed6ef8b9a369f4eef473a367b1bcc1e0d72c8dfe80d"
  },
  "kernelspec": {
   "display_name": "Python 3.9.5 64-bit",
   "language": "python",
   "name": "python3"
  },
  "language_info": {
   "codemirror_mode": {
    "name": "ipython",
    "version": 3
   },
   "file_extension": ".py",
   "mimetype": "text/x-python",
   "name": "python",
   "nbconvert_exporter": "python",
   "pygments_lexer": "ipython3",
   "version": "3.9.6"
  },
  "orig_nbformat": 4
 },
 "nbformat": 4,
 "nbformat_minor": 2
}
